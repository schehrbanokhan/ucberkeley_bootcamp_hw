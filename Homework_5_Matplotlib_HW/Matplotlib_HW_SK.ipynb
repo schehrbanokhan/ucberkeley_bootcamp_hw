{
 "cells": [
  {
   "cell_type": "code",
   "execution_count": 1,
   "metadata": {},
   "outputs": [],
   "source": [
    "%matplotlib inline\n",
    "# Dependencies and Setup\n",
    "import matplotlib.pyplot as plt\n",
    "import pandas as pd\n",
    "import numpy as np\n",
    "from matplotlib.patches import Patch\n",
    "from matplotlib.lines import Line2D\n",
    "\n",
    "# File to Load (Remember to change these)\n",
    "city_data_to_load = \"data/city_data.csv\"\n",
    "ride_data_to_load = \"data/ride_data.csv\"\n",
    "\n",
    "# Read the City and Ride Data\n",
    "df1=pd.read_csv(city_data_to_load)\n",
    "df2=pd.read_csv(ride_data_to_load)\n",
    "\n",
    "# Combine the data into a single dataset\n",
    "ride_share_data=pd.merge(df2,df1,on=\"city\",how=\"left\")\n",
    "# Display the data table for preview"
   ]
  },
  {
   "cell_type": "code",
   "execution_count": 2,
   "metadata": {},
   "outputs": [
    {
     "data": {
      "text/html": [
       "<div>\n",
       "<style scoped>\n",
       "    .dataframe tbody tr th:only-of-type {\n",
       "        vertical-align: middle;\n",
       "    }\n",
       "\n",
       "    .dataframe tbody tr th {\n",
       "        vertical-align: top;\n",
       "    }\n",
       "\n",
       "    .dataframe thead th {\n",
       "        text-align: right;\n",
       "    }\n",
       "</style>\n",
       "<table border=\"1\" class=\"dataframe\">\n",
       "  <thead>\n",
       "    <tr style=\"text-align: right;\">\n",
       "      <th></th>\n",
       "      <th>city</th>\n",
       "      <th>date</th>\n",
       "      <th>fare</th>\n",
       "      <th>ride_id</th>\n",
       "      <th>driver_count</th>\n",
       "      <th>type</th>\n",
       "    </tr>\n",
       "  </thead>\n",
       "  <tbody>\n",
       "    <tr>\n",
       "      <th>0</th>\n",
       "      <td>Lake Jonathanshire</td>\n",
       "      <td>1/14/18 10:14</td>\n",
       "      <td>13.83</td>\n",
       "      <td>5.739410e+12</td>\n",
       "      <td>5</td>\n",
       "      <td>Urban</td>\n",
       "    </tr>\n",
       "    <tr>\n",
       "      <th>1</th>\n",
       "      <td>South Michelleport</td>\n",
       "      <td>3/4/18 18:24</td>\n",
       "      <td>30.24</td>\n",
       "      <td>2.343910e+12</td>\n",
       "      <td>72</td>\n",
       "      <td>Urban</td>\n",
       "    </tr>\n",
       "    <tr>\n",
       "      <th>2</th>\n",
       "      <td>Port Samanthamouth</td>\n",
       "      <td>2/24/18 4:29</td>\n",
       "      <td>33.44</td>\n",
       "      <td>2.005070e+12</td>\n",
       "      <td>57</td>\n",
       "      <td>Urban</td>\n",
       "    </tr>\n",
       "    <tr>\n",
       "      <th>3</th>\n",
       "      <td>Rodneyfort</td>\n",
       "      <td>2/10/18 23:22</td>\n",
       "      <td>23.44</td>\n",
       "      <td>5.149250e+12</td>\n",
       "      <td>34</td>\n",
       "      <td>Urban</td>\n",
       "    </tr>\n",
       "    <tr>\n",
       "      <th>4</th>\n",
       "      <td>South Jack</td>\n",
       "      <td>3/6/18 4:28</td>\n",
       "      <td>34.58</td>\n",
       "      <td>3.908450e+12</td>\n",
       "      <td>46</td>\n",
       "      <td>Urban</td>\n",
       "    </tr>\n",
       "  </tbody>\n",
       "</table>\n",
       "</div>"
      ],
      "text/plain": [
       "                 city           date   fare       ride_id  driver_count   type\n",
       "0  Lake Jonathanshire  1/14/18 10:14  13.83  5.739410e+12             5  Urban\n",
       "1  South Michelleport   3/4/18 18:24  30.24  2.343910e+12            72  Urban\n",
       "2  Port Samanthamouth   2/24/18 4:29  33.44  2.005070e+12            57  Urban\n",
       "3          Rodneyfort  2/10/18 23:22  23.44  5.149250e+12            34  Urban\n",
       "4          South Jack    3/6/18 4:28  34.58  3.908450e+12            46  Urban"
      ]
     },
     "execution_count": 2,
     "metadata": {},
     "output_type": "execute_result"
    }
   ],
   "source": [
    "ride_share_data.head()"
   ]
  },
  {
   "cell_type": "code",
   "execution_count": 3,
   "metadata": {},
   "outputs": [
    {
     "data": {
      "text/html": [
       "<div>\n",
       "<style scoped>\n",
       "    .dataframe tbody tr th:only-of-type {\n",
       "        vertical-align: middle;\n",
       "    }\n",
       "\n",
       "    .dataframe tbody tr th {\n",
       "        vertical-align: top;\n",
       "    }\n",
       "\n",
       "    .dataframe thead th {\n",
       "        text-align: right;\n",
       "    }\n",
       "</style>\n",
       "<table border=\"1\" class=\"dataframe\">\n",
       "  <thead>\n",
       "    <tr style=\"text-align: right;\">\n",
       "      <th></th>\n",
       "      <th>driver_count</th>\n",
       "      <th>type</th>\n",
       "    </tr>\n",
       "    <tr>\n",
       "      <th>city</th>\n",
       "      <th></th>\n",
       "      <th></th>\n",
       "    </tr>\n",
       "  </thead>\n",
       "  <tbody>\n",
       "    <tr>\n",
       "      <th>Amandaburgh</th>\n",
       "      <td>12</td>\n",
       "      <td>Urban</td>\n",
       "    </tr>\n",
       "    <tr>\n",
       "      <th>Barajasview</th>\n",
       "      <td>26</td>\n",
       "      <td>Urban</td>\n",
       "    </tr>\n",
       "    <tr>\n",
       "      <th>Barronchester</th>\n",
       "      <td>11</td>\n",
       "      <td>Suburban</td>\n",
       "    </tr>\n",
       "    <tr>\n",
       "      <th>Bethanyland</th>\n",
       "      <td>22</td>\n",
       "      <td>Suburban</td>\n",
       "    </tr>\n",
       "    <tr>\n",
       "      <th>Bradshawfurt</th>\n",
       "      <td>7</td>\n",
       "      <td>Rural</td>\n",
       "    </tr>\n",
       "    <tr>\n",
       "      <th>Brandonfort</th>\n",
       "      <td>10</td>\n",
       "      <td>Suburban</td>\n",
       "    </tr>\n",
       "    <tr>\n",
       "      <th>Carriemouth</th>\n",
       "      <td>52</td>\n",
       "      <td>Urban</td>\n",
       "    </tr>\n",
       "    <tr>\n",
       "      <th>Christopherfurt</th>\n",
       "      <td>41</td>\n",
       "      <td>Urban</td>\n",
       "    </tr>\n",
       "    <tr>\n",
       "      <th>Colemanland</th>\n",
       "      <td>23</td>\n",
       "      <td>Suburban</td>\n",
       "    </tr>\n",
       "    <tr>\n",
       "      <th>Davidfurt</th>\n",
       "      <td>23</td>\n",
       "      <td>Suburban</td>\n",
       "    </tr>\n",
       "    <tr>\n",
       "      <th>Deanville</th>\n",
       "      <td>49</td>\n",
       "      <td>Urban</td>\n",
       "    </tr>\n",
       "    <tr>\n",
       "      <th>East Aaronbury</th>\n",
       "      <td>7</td>\n",
       "      <td>Suburban</td>\n",
       "    </tr>\n",
       "    <tr>\n",
       "      <th>East Danielview</th>\n",
       "      <td>22</td>\n",
       "      <td>Suburban</td>\n",
       "    </tr>\n",
       "    <tr>\n",
       "      <th>East Kaylahaven</th>\n",
       "      <td>65</td>\n",
       "      <td>Urban</td>\n",
       "    </tr>\n",
       "    <tr>\n",
       "      <th>East Kentstad</th>\n",
       "      <td>20</td>\n",
       "      <td>Suburban</td>\n",
       "    </tr>\n",
       "    <tr>\n",
       "      <th>East Marymouth</th>\n",
       "      <td>5</td>\n",
       "      <td>Suburban</td>\n",
       "    </tr>\n",
       "    <tr>\n",
       "      <th>Erikaland</th>\n",
       "      <td>37</td>\n",
       "      <td>Urban</td>\n",
       "    </tr>\n",
       "    <tr>\n",
       "      <th>Garzaport</th>\n",
       "      <td>7</td>\n",
       "      <td>Rural</td>\n",
       "    </tr>\n",
       "    <tr>\n",
       "      <th>Grahamburgh</th>\n",
       "      <td>61</td>\n",
       "      <td>Urban</td>\n",
       "    </tr>\n",
       "    <tr>\n",
       "      <th>Grayville</th>\n",
       "      <td>2</td>\n",
       "      <td>Suburban</td>\n",
       "    </tr>\n",
       "    <tr>\n",
       "      <th>Harringtonfort</th>\n",
       "      <td>4</td>\n",
       "      <td>Rural</td>\n",
       "    </tr>\n",
       "    <tr>\n",
       "      <th>Huntermouth</th>\n",
       "      <td>37</td>\n",
       "      <td>Urban</td>\n",
       "    </tr>\n",
       "    <tr>\n",
       "      <th>Hurleymouth</th>\n",
       "      <td>36</td>\n",
       "      <td>Urban</td>\n",
       "    </tr>\n",
       "    <tr>\n",
       "      <th>Jerryton</th>\n",
       "      <td>64</td>\n",
       "      <td>Urban</td>\n",
       "    </tr>\n",
       "    <tr>\n",
       "      <th>Jessicaport</th>\n",
       "      <td>1</td>\n",
       "      <td>Rural</td>\n",
       "    </tr>\n",
       "    <tr>\n",
       "      <th>Johnton</th>\n",
       "      <td>27</td>\n",
       "      <td>Urban</td>\n",
       "    </tr>\n",
       "    <tr>\n",
       "      <th>Joneschester</th>\n",
       "      <td>39</td>\n",
       "      <td>Urban</td>\n",
       "    </tr>\n",
       "    <tr>\n",
       "      <th>Josephside</th>\n",
       "      <td>25</td>\n",
       "      <td>Suburban</td>\n",
       "    </tr>\n",
       "    <tr>\n",
       "      <th>Justinberg</th>\n",
       "      <td>39</td>\n",
       "      <td>Urban</td>\n",
       "    </tr>\n",
       "    <tr>\n",
       "      <th>Karenberg</th>\n",
       "      <td>22</td>\n",
       "      <td>Urban</td>\n",
       "    </tr>\n",
       "    <tr>\n",
       "      <th>...</th>\n",
       "      <td>...</td>\n",
       "      <td>...</td>\n",
       "    </tr>\n",
       "    <tr>\n",
       "      <th>South Evanton</th>\n",
       "      <td>11</td>\n",
       "      <td>Urban</td>\n",
       "    </tr>\n",
       "    <tr>\n",
       "      <th>South Jack</th>\n",
       "      <td>46</td>\n",
       "      <td>Urban</td>\n",
       "    </tr>\n",
       "    <tr>\n",
       "      <th>South Jennifer</th>\n",
       "      <td>7</td>\n",
       "      <td>Rural</td>\n",
       "    </tr>\n",
       "    <tr>\n",
       "      <th>South Karenland</th>\n",
       "      <td>4</td>\n",
       "      <td>Urban</td>\n",
       "    </tr>\n",
       "    <tr>\n",
       "      <th>South Latoya</th>\n",
       "      <td>10</td>\n",
       "      <td>Urban</td>\n",
       "    </tr>\n",
       "    <tr>\n",
       "      <th>South Marychester</th>\n",
       "      <td>1</td>\n",
       "      <td>Rural</td>\n",
       "    </tr>\n",
       "    <tr>\n",
       "      <th>South Michelleport</th>\n",
       "      <td>72</td>\n",
       "      <td>Urban</td>\n",
       "    </tr>\n",
       "    <tr>\n",
       "      <th>South Phillip</th>\n",
       "      <td>38</td>\n",
       "      <td>Urban</td>\n",
       "    </tr>\n",
       "    <tr>\n",
       "      <th>South Saramouth</th>\n",
       "      <td>7</td>\n",
       "      <td>Rural</td>\n",
       "    </tr>\n",
       "    <tr>\n",
       "      <th>South Teresa</th>\n",
       "      <td>21</td>\n",
       "      <td>Suburban</td>\n",
       "    </tr>\n",
       "    <tr>\n",
       "      <th>Taylorhaven</th>\n",
       "      <td>1</td>\n",
       "      <td>Rural</td>\n",
       "    </tr>\n",
       "    <tr>\n",
       "      <th>Valentineton</th>\n",
       "      <td>45</td>\n",
       "      <td>Urban</td>\n",
       "    </tr>\n",
       "    <tr>\n",
       "      <th>Veronicaberg</th>\n",
       "      <td>20</td>\n",
       "      <td>Suburban</td>\n",
       "    </tr>\n",
       "    <tr>\n",
       "      <th>Victoriaport</th>\n",
       "      <td>16</td>\n",
       "      <td>Suburban</td>\n",
       "    </tr>\n",
       "    <tr>\n",
       "      <th>West Angela</th>\n",
       "      <td>48</td>\n",
       "      <td>Urban</td>\n",
       "    </tr>\n",
       "    <tr>\n",
       "      <th>West Anthony</th>\n",
       "      <td>70</td>\n",
       "      <td>Urban</td>\n",
       "    </tr>\n",
       "    <tr>\n",
       "      <th>West Christopherberg</th>\n",
       "      <td>32</td>\n",
       "      <td>Urban</td>\n",
       "    </tr>\n",
       "    <tr>\n",
       "      <th>West Ericstad</th>\n",
       "      <td>25</td>\n",
       "      <td>Urban</td>\n",
       "    </tr>\n",
       "    <tr>\n",
       "      <th>West Gabriel</th>\n",
       "      <td>57</td>\n",
       "      <td>Urban</td>\n",
       "    </tr>\n",
       "    <tr>\n",
       "      <th>West Hannah</th>\n",
       "      <td>12</td>\n",
       "      <td>Suburban</td>\n",
       "    </tr>\n",
       "    <tr>\n",
       "      <th>West Heather</th>\n",
       "      <td>4</td>\n",
       "      <td>Rural</td>\n",
       "    </tr>\n",
       "    <tr>\n",
       "      <th>West Heidi</th>\n",
       "      <td>28</td>\n",
       "      <td>Urban</td>\n",
       "    </tr>\n",
       "    <tr>\n",
       "      <th>West Josephberg</th>\n",
       "      <td>45</td>\n",
       "      <td>Urban</td>\n",
       "    </tr>\n",
       "    <tr>\n",
       "      <th>West Kimmouth</th>\n",
       "      <td>4</td>\n",
       "      <td>Suburban</td>\n",
       "    </tr>\n",
       "    <tr>\n",
       "      <th>West Patrickchester</th>\n",
       "      <td>25</td>\n",
       "      <td>Urban</td>\n",
       "    </tr>\n",
       "    <tr>\n",
       "      <th>West Robert</th>\n",
       "      <td>39</td>\n",
       "      <td>Urban</td>\n",
       "    </tr>\n",
       "    <tr>\n",
       "      <th>West Samuelburgh</th>\n",
       "      <td>73</td>\n",
       "      <td>Urban</td>\n",
       "    </tr>\n",
       "    <tr>\n",
       "      <th>Williamsonville</th>\n",
       "      <td>2</td>\n",
       "      <td>Suburban</td>\n",
       "    </tr>\n",
       "    <tr>\n",
       "      <th>Williamsstad</th>\n",
       "      <td>59</td>\n",
       "      <td>Urban</td>\n",
       "    </tr>\n",
       "    <tr>\n",
       "      <th>Williamsview</th>\n",
       "      <td>46</td>\n",
       "      <td>Urban</td>\n",
       "    </tr>\n",
       "  </tbody>\n",
       "</table>\n",
       "<p>120 rows × 2 columns</p>\n",
       "</div>"
      ],
      "text/plain": [
       "                      driver_count      type\n",
       "city                                        \n",
       "Amandaburgh                     12     Urban\n",
       "Barajasview                     26     Urban\n",
       "Barronchester                   11  Suburban\n",
       "Bethanyland                     22  Suburban\n",
       "Bradshawfurt                     7     Rural\n",
       "Brandonfort                     10  Suburban\n",
       "Carriemouth                     52     Urban\n",
       "Christopherfurt                 41     Urban\n",
       "Colemanland                     23  Suburban\n",
       "Davidfurt                       23  Suburban\n",
       "Deanville                       49     Urban\n",
       "East Aaronbury                   7  Suburban\n",
       "East Danielview                 22  Suburban\n",
       "East Kaylahaven                 65     Urban\n",
       "East Kentstad                   20  Suburban\n",
       "East Marymouth                   5  Suburban\n",
       "Erikaland                       37     Urban\n",
       "Garzaport                        7     Rural\n",
       "Grahamburgh                     61     Urban\n",
       "Grayville                        2  Suburban\n",
       "Harringtonfort                   4     Rural\n",
       "Huntermouth                     37     Urban\n",
       "Hurleymouth                     36     Urban\n",
       "Jerryton                        64     Urban\n",
       "Jessicaport                      1     Rural\n",
       "Johnton                         27     Urban\n",
       "Joneschester                    39     Urban\n",
       "Josephside                      25  Suburban\n",
       "Justinberg                      39     Urban\n",
       "Karenberg                       22     Urban\n",
       "...                            ...       ...\n",
       "South Evanton                   11     Urban\n",
       "South Jack                      46     Urban\n",
       "South Jennifer                   7     Rural\n",
       "South Karenland                  4     Urban\n",
       "South Latoya                    10     Urban\n",
       "South Marychester                1     Rural\n",
       "South Michelleport              72     Urban\n",
       "South Phillip                   38     Urban\n",
       "South Saramouth                  7     Rural\n",
       "South Teresa                    21  Suburban\n",
       "Taylorhaven                      1     Rural\n",
       "Valentineton                    45     Urban\n",
       "Veronicaberg                    20  Suburban\n",
       "Victoriaport                    16  Suburban\n",
       "West Angela                     48     Urban\n",
       "West Anthony                    70     Urban\n",
       "West Christopherberg            32     Urban\n",
       "West Ericstad                   25     Urban\n",
       "West Gabriel                    57     Urban\n",
       "West Hannah                     12  Suburban\n",
       "West Heather                     4     Rural\n",
       "West Heidi                      28     Urban\n",
       "West Josephberg                 45     Urban\n",
       "West Kimmouth                    4  Suburban\n",
       "West Patrickchester             25     Urban\n",
       "West Robert                     39     Urban\n",
       "West Samuelburgh                73     Urban\n",
       "Williamsonville                  2  Suburban\n",
       "Williamsstad                    59     Urban\n",
       "Williamsview                    46     Urban\n",
       "\n",
       "[120 rows x 2 columns]"
      ]
     },
     "execution_count": 3,
     "metadata": {},
     "output_type": "execute_result"
    }
   ],
   "source": [
    "city_stuff = df1.set_index('city').sort_index()\n",
    "city_stuff"
   ]
  },
  {
   "cell_type": "code",
   "execution_count": 4,
   "metadata": {},
   "outputs": [],
   "source": [
    "my_colors = np.where(city_stuff['type']==\"Urban\",\"Lightcoral\", np.where(city_stuff['type']==\"Suburban\", \"Lightskyblue\",\"Gold\"))\n"
   ]
  },
  {
   "cell_type": "markdown",
   "metadata": {},
   "source": [
    "## Bubble Plot of Ride Sharing Data"
   ]
  },
  {
   "cell_type": "code",
   "execution_count": 5,
   "metadata": {},
   "outputs": [],
   "source": [
    "rides_per_city=ride_share_data.groupby(\"city\")[\"driver_count\"].count()"
   ]
  },
  {
   "cell_type": "code",
   "execution_count": 6,
   "metadata": {},
   "outputs": [],
   "source": [
    "# check=ride_share_data.loc[ride_share_data[\"city\"]==\"Amandaburgh\",:]\n",
    "# check[\"fare\"].mean()"
   ]
  },
  {
   "cell_type": "code",
   "execution_count": 7,
   "metadata": {},
   "outputs": [],
   "source": [
    "mean_fare= ride_share_data.groupby(\"city\")[\"fare\"].mean()"
   ]
  },
  {
   "cell_type": "code",
   "execution_count": 8,
   "metadata": {},
   "outputs": [],
   "source": [
    "# check=ride_share_data.loc[ride_share_data[\"type\"]==\"Urban\",:]\n",
    "# check[\"city\"]"
   ]
  },
  {
   "cell_type": "code",
   "execution_count": 9,
   "metadata": {},
   "outputs": [],
   "source": [
    "d_c=city_stuff[\"driver_count\"]\n"
   ]
  },
  {
   "cell_type": "code",
   "execution_count": 10,
   "metadata": {},
   "outputs": [
    {
     "data": {
      "image/png": "[encoded data removed]",
      "text/plain": [
       "<Figure size 432x288 with 1 Axes>"
      ]
     },
     "metadata": {
      "needs_background": "light"
     },
     "output_type": "display_data"
    }
   ],
   "source": [
    "# Obtain the x and y coordinates for each of the three city types\n",
    "rides_per_city=ride_share_data.groupby(\"city\")[\"driver_count\"].count()\n",
    "mean_fare= ride_share_data.groupby(\"city\")[\"fare\"].mean()\n",
    "\n",
    "\n",
    "# Build the scatter plots for each city types\n",
    "plt.scatter(rides_per_city,mean_fare,marker=\"o\",color=my_colors,edgecolors=\"black\",s=d_c*10,alpha=0.70)\n",
    "\n",
    "# Incorporate the other graph properties\n",
    "plt.xlabel(\"Total number of Rides (Per City)\")\n",
    "plt.ylabel(\"Average Fare($)\")\n",
    "plt.title(\"Pyber Ride Sharing Data (2016)\")\n",
    "\n",
    "\n",
    "legend_elements = [\n",
    "    Line2D([0], [0], marker=\"o\",color='black',lw=0,markerfacecolor='Lightcoral', label='Urban'),\n",
    "    Line2D([0], [0], marker='o', color='black', lw=0, markerfacecolor='Lightskyblue',label='Suburban'),\n",
    "    Line2D([0], [0], marker='o', color='black', lw=0,markerfacecolor='Gold',label='Rural')\n",
    "]\n",
    "\n",
    "# Create the figure\n",
    "# fig, ax = plt.subplots()\n",
    "plt.legend(title=\"City Types\",handles=legend_elements, loc='best')\n",
    "\n",
    "plt.text(42, 30, 'Note:\\nCircle Size correlates with driver count per city.')\n",
    "\n",
    "# Incorporate a text label regarding circle size\n",
    "plt.grid()\n",
    "\n",
    "# Save Figure\n",
    "plt.savefig(\"data/scatter_ride_share.png\")\n",
    "\n",
    "# Show plot\n",
    "plt.show()"
   ]
  },
  {
   "cell_type": "markdown",
   "metadata": {},
   "source": [
    "## Total Fares by City Type"
   ]
  },
  {
   "cell_type": "code",
   "execution_count": 11,
   "metadata": {},
   "outputs": [
    {
     "data": {
      "text/plain": [
       "63538.64"
      ]
     },
     "execution_count": 11,
     "metadata": {},
     "output_type": "execute_result"
    }
   ],
   "source": [
    "total_fare=ride_share_data[\"fare\"].sum()\n",
    "total_fare"
   ]
  },
  {
   "cell_type": "code",
   "execution_count": 12,
   "metadata": {},
   "outputs": [
    {
     "data": {
      "text/plain": [
       "39854.380000000005"
      ]
     },
     "execution_count": 12,
     "metadata": {},
     "output_type": "execute_result"
    }
   ],
   "source": [
    "u_fare=ride_share_data.loc[ride_share_data[\"type\"]==\"Urban\",:]\n",
    "urban_fare=u_fare[\"fare\"].sum()\n",
    "urban_fare"
   ]
  },
  {
   "cell_type": "code",
   "execution_count": 13,
   "metadata": {},
   "outputs": [
    {
     "data": {
      "text/plain": [
       "19356.33"
      ]
     },
     "execution_count": 13,
     "metadata": {},
     "output_type": "execute_result"
    }
   ],
   "source": [
    "s_fare=ride_share_data.loc[ride_share_data[\"type\"]==\"Suburban\",:]\n",
    "suburban_fare=s_fare[\"fare\"].sum()\n",
    "suburban_fare"
   ]
  },
  {
   "cell_type": "code",
   "execution_count": 14,
   "metadata": {},
   "outputs": [
    {
     "data": {
      "text/plain": [
       "4327.929999999999"
      ]
     },
     "execution_count": 14,
     "metadata": {},
     "output_type": "execute_result"
    }
   ],
   "source": [
    "r_fare=ride_share_data.loc[ride_share_data[\"type\"]==\"Rural\",:]\n",
    "rural_fare=r_fare[\"fare\"].sum()\n",
    "rural_fare"
   ]
  },
  {
   "cell_type": "code",
   "execution_count": 15,
   "metadata": {},
   "outputs": [
    {
     "data": {
      "image/png": "[encoded data removed]",
      "text/plain": [
       "<Figure size 432x288 with 1 Axes>"
      ]
     },
     "metadata": {},
     "output_type": "display_data"
    }
   ],
   "source": [
    "# Calculate Type Percents\n",
    "u_perc= (urban_fare/total_fare)*100\n",
    "s_perc=(suburban_fare/total_fare)*100\n",
    "r_perc=(rural_fare/total_fare)*100\n",
    "\n",
    "# Build Pie Chart\n",
    "label=[\"Urban\",\"Suburban\",\"Rural\"]\n",
    "values=[u_perc,s_perc,r_perc]\n",
    "colors=[\"Lightcoral\",\"Lightskyblue\",\"Gold\"]\n",
    "explode=[0.1, 0,0]\n",
    "\n",
    "pie_plot=plt.pie(values, explode=explode, labels=label, colors=colors,autopct=\"%1.1f%%\",shadow=True,startangle=90)\n",
    "\n",
    "plt.title(\"% of Total Fares by City Type\")\n",
    "\n",
    "\n",
    "# Save Figure\n",
    "plt.savefig(\"data/total_fares_by_city_SK.png\")\n",
    "\n",
    "# Show Figure\n",
    "plt.show()\n"
   ]
  },
  {
   "cell_type": "markdown",
   "metadata": {},
   "source": [
    "## Total Rides by City Type"
   ]
  },
  {
   "cell_type": "code",
   "execution_count": 16,
   "metadata": {},
   "outputs": [],
   "source": [
    "total=len(ride_share_data['type'])"
   ]
  },
  {
   "cell_type": "code",
   "execution_count": 17,
   "metadata": {},
   "outputs": [],
   "source": [
    "total_urban=len(ride_share_data[ride_share_data['type'] == 'Urban'])"
   ]
  },
  {
   "cell_type": "code",
   "execution_count": 18,
   "metadata": {},
   "outputs": [],
   "source": [
    "total_suburban=len(ride_share_data[ride_share_data['type'] == 'Suburban'])"
   ]
  },
  {
   "cell_type": "code",
   "execution_count": 19,
   "metadata": {},
   "outputs": [],
   "source": [
    "total_rural=len(ride_share_data[ride_share_data['type'] == 'Rural'])"
   ]
  },
  {
   "cell_type": "code",
   "execution_count": 20,
   "metadata": {},
   "outputs": [
    {
     "data": {
      "image/png": "[encoded data removed]",
      "text/plain": [
       "<Figure size 432x288 with 1 Axes>"
      ]
     },
     "metadata": {},
     "output_type": "display_data"
    }
   ],
   "source": [
    "# Calculate Ride Percents\n",
    "\n",
    "urban_perc=(total_urban/total)*100\n",
    "\n",
    "suburban_perc=(total_suburban/total)*100\n",
    "\n",
    "rural_perc=(total_rural/total)*100\n",
    "\n",
    "# Build Pie Chart\n",
    "label=[\"Urban\",\"Suburban\",\"Rural\"]\n",
    "values=[urban_perc,suburban_perc,rural_perc]\n",
    "colors=[\"Lightcoral\",\"Lightskyblue\",\"Gold\"]\n",
    "explode=[0.1, 0,0]\n",
    "\n",
    "pie_plot=plt.pie(values, explode=explode, labels=label, colors=colors,autopct=\"%1.1f%%\",shadow=True,startangle=90)\n",
    "\n",
    "plt.title(\"% of Total Rides by City type\")\n",
    "\n",
    "# Save Figure\n",
    "plt.savefig(\"data/total_rides_by_city_type.png\")\n",
    "\n",
    "# Show Figure\n",
    "plt.show()"
   ]
  },
  {
   "cell_type": "markdown",
   "metadata": {},
   "source": [
    "## Total Drivers by City Type"
   ]
  },
  {
   "cell_type": "code",
   "execution_count": 21,
   "metadata": {},
   "outputs": [],
   "source": [
    "total_drivers=sum(df1[\"driver_count\"])"
   ]
  },
  {
   "cell_type": "code",
   "execution_count": 22,
   "metadata": {},
   "outputs": [],
   "source": [
    "urban_d=df1.loc[df1[\"type\"]==\"Urban\",:]\n",
    "urban_drivers=urban_d[\"driver_count\"].sum()"
   ]
  },
  {
   "cell_type": "code",
   "execution_count": 23,
   "metadata": {},
   "outputs": [],
   "source": [
    "suburban_d=df1.loc[df1[\"type\"]==\"Suburban\",:]\n",
    "suburban_drivers=suburban_d[\"driver_count\"].sum()"
   ]
  },
  {
   "cell_type": "code",
   "execution_count": 24,
   "metadata": {},
   "outputs": [],
   "source": [
    "rural_d=df1.loc[df1[\"type\"]==\"Rural\",:]\n",
    "rural_drivers=rural_d[\"driver_count\"].sum()"
   ]
  },
  {
   "cell_type": "code",
   "execution_count": 25,
   "metadata": {},
   "outputs": [
    {
     "data": {
      "image/png": "[encoded data removed]",
      "text/plain": [
       "<Figure size 432x288 with 1 Axes>"
      ]
     },
     "metadata": {},
     "output_type": "display_data"
    }
   ],
   "source": [
    "# Calculate Ride Percents\n",
    "\n",
    "urban_d_perc=(urban_drivers/total_drivers)*100\n",
    "\n",
    "suburban_d_perc=(suburban_drivers/total_drivers)*100\n",
    "\n",
    "rural_d_perc=(rural_drivers/total_drivers)*100\n",
    "\n",
    "# Build Pie Chart\n",
    "label=[\"Urban\",\"Suburban\",\"Rural\"]\n",
    "values=[urban_d_perc,suburban_d_perc,rural_d_perc]\n",
    "colors=[\"Lightcoral\",\"Lightskyblue\",\"Gold\"]\n",
    "explode=[0.1, 0,0]\n",
    "\n",
    "pie_plot=plt.pie(values, explode=explode, labels=label, colors=colors,autopct=\"%1.1f%%\",shadow=True,startangle=90)\n",
    "\n",
    "plt.title(\"% of Total Drivers by City type\")\n",
    "\n",
    "# Save Figure\n",
    "plt.savefig(\"data/total_drivers_by_city_type.png\")\n",
    "\n",
    "# Show Figure\n",
    "plt.show()"
   ]
  },
  {
   "cell_type": "markdown",
   "metadata": {},
   "source": [
    "Three observable trends based on the data:\n",
    "1. Based on the data set, most of the drivers for ride share companies operate in Urban area.\n",
    "2. A very high percentage of rides for ride share companies come from Urban areas\n",
    "3. most of the fares collected by ride share companies come from customers in urban city types\n",
    "4. The most expensive rides come from rural city types, though they are also fewer instances of that.\n"
   ]
  },
  {
   "cell_type": "code",
   "execution_count": null,
   "metadata": {},
   "outputs": [],
   "source": []
  },
  {
   "cell_type": "code",
   "execution_count": null,
   "metadata": {},
   "outputs": [],
   "source": []
  }
 ],
 "metadata": {
  "anaconda-cloud": {},
  "kernelspec": {
   "display_name": "Python 3",
   "language": "python",
   "name": "python3"
  },
  "language_info": {
   "codemirror_mode": {
    "name": "ipython",
    "version": 3
   },
   "file_extension": ".py",
   "mimetype": "text/x-python",
   "name": "python",
   "nbconvert_exporter": "python",
   "pygments_lexer": "ipython3",
   "version": "3.7.0"
  }
 },
 "nbformat": 4,
 "nbformat_minor": 2
}
